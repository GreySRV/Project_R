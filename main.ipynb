{
 "cells": [
  {
   "cell_type": "code",
   "execution_count": 1,
   "id": "2ed45908-7c5e-409c-be73-bebc4b73f61b",
   "metadata": {},
   "outputs": [
    {
     "ename": "SyntaxError",
     "evalue": "invalid non-printable character U+00A0 (1786199312.py, line 12)",
     "output_type": "error",
     "traceback": [
      "  \u001b[36mCell\u001b[39m\u001b[36m \u001b[39m\u001b[32mIn[1]\u001b[39m\u001b[32m, line 12\u001b[39m\n\u001b[31m    \u001b[39m\u001b[31mwith open('04.txt', 'r') as file:\u001b[39m\n    ^\n\u001b[31mSyntaxError\u001b[39m\u001b[31m:\u001b[39m invalid non-printable character U+00A0\n"
     ]
    }
   ],
   "source": []
  },
  {
   "cell_type": "code",
   "execution_count": 3,
   "id": "5bfc2044-96f9-44ee-9cfc-239e58df99fc",
   "metadata": {
    "scrolled": true
   },
   "outputs": [
    {
     "ename": "ModuleNotFoundError",
     "evalue": "No module named 'sqlalchemy'",
     "output_type": "error",
     "traceback": [
      "\u001b[0;31m---------------------------------------------------------------------------\u001b[0m",
      "\u001b[0;31mModuleNotFoundError\u001b[0m                       Traceback (most recent call last)",
      "Cell \u001b[0;32mIn[3], line 1\u001b[0m\n\u001b[0;32m----> 1\u001b[0m \u001b[38;5;28;01mfrom\u001b[39;00m \u001b[38;5;21;01msqlalchemy\u001b[39;00m \u001b[38;5;28;01mimport\u001b[39;00m create_engine\n\u001b[1;32m      2\u001b[0m \u001b[38;5;28;01mfrom\u001b[39;00m \u001b[38;5;21;01msqlalchemy\u001b[39;00m\u001b[38;5;21;01m.\u001b[39;00m\u001b[38;5;21;01morm\u001b[39;00m \u001b[38;5;28;01mimport\u001b[39;00m sessionmaker\n\u001b[1;32m      3\u001b[0m \u001b[38;5;28;01mfrom\u001b[39;00m \u001b[38;5;21;01mdotenv\u001b[39;00m \u001b[38;5;28;01mimport\u001b[39;00m load_dotenv\n",
      "\u001b[0;31mModuleNotFoundError\u001b[0m: No module named 'sqlalchemy'"
     ]
    }
   ],
   "source": [
    "from sqlalchemy import create_engine\n",
    "from sqlalchemy.orm import sessionmaker\n",
    "from dotenv import load_dotenv\n",
    "import os\n",
    "\n",
    "load_dotenv(\"home/srv/Lab/RW/.env\")  # Загружаем переменные из .env\n",
    "\n",
    "DATABASE_URL = os.getenv(\"DATABASE_URL\")\n",
    "engine = create_engine(DATABASE_URL)\n",
    "SessionLocal = sessionmaker(autocommit=False, autoflush=False, bind=engine)\n",
    "\n",
    "# Проверка подключения\n",
    "with engine.connect() as conn:\n",
    "    print(\"Успешное подключение к PostgreSQL!\")"
   ]
  },
  {
   "cell_type": "code",
   "execution_count": 3,
   "id": "1dda57c6-a1f7-4b58-a476-6f42c68691dc",
   "metadata": {},
   "outputs": [
    {
     "ename": "ModuleNotFoundError",
     "evalue": "No module named 'app.database'",
     "output_type": "error",
     "traceback": [
      "\u001b[31m---------------------------------------------------------------------------\u001b[39m",
      "\u001b[31mModuleNotFoundError\u001b[39m                       Traceback (most recent call last)",
      "\u001b[36mCell\u001b[39m\u001b[36m \u001b[39m\u001b[32mIn[3]\u001b[39m\u001b[32m, line 1\u001b[39m\n\u001b[32m----> \u001b[39m\u001b[32m1\u001b[39m \u001b[38;5;28;01mfrom\u001b[39;00m\u001b[38;5;250m \u001b[39m\u001b[34;01mapp\u001b[39;00m\u001b[34;01m.\u001b[39;00m\u001b[34;01mdatabase\u001b[39;00m\u001b[38;5;250m \u001b[39m\u001b[38;5;28;01mimport\u001b[39;00m engine\n\u001b[32m      2\u001b[39m \u001b[38;5;28mprint\u001b[39m(engine.url)  \u001b[38;5;66;03m# Должно показать postgresql://.../base_1\u001b[39;00m\n",
      "\u001b[31mModuleNotFoundError\u001b[39m: No module named 'app.database'"
     ]
    }
   ],
   "source": [
    "from app.database import engine\n",
    "print(engine.url)  # Должно показать postgresql://.../base_1"
   ]
  },
  {
   "cell_type": "code",
   "execution_count": 6,
   "id": "3853dccd-f955-4e77-9ff8-fdd27d1075df",
   "metadata": {},
   "outputs": [
    {
     "name": "stdout",
     "output_type": "stream",
     "text": [
      "Ошибка: (psycopg2.errors.UniqueViolation) duplicate key value violates unique constraint \"genres_name_key\"\n",
      "DETAIL:  Key (name)=(Fantasy) already exists.\n",
      "\n",
      "[SQL: INSERT INTO genres (name, description) VALUES (%(name)s, %(description)s) RETURNING genres.id]\n",
      "[parameters: {'name': 'Fantasy', 'description': 'Magical worlds'}]\n",
      "(Background on this error at: https://sqlalche.me/e/20/gkpj)\n"
     ]
    }
   ],
   "source": [
    "from app.database import SessionLocal, engine\n",
    "from app.models import Client, Genre, Object  # Импортируем все модели\n",
    "\n",
    "# Создаем тестовые данные\n",
    "def create_test_data():\n",
    "    db = SessionLocal()\n",
    "    \n",
    "    try:\n",
    "        # Тестовый жанр\n",
    "        genre = Genre(name=\"Fantasy\", description=\"Magical worlds\")\n",
    "        db.add(genre)\n",
    "        \n",
    "        # Тестовый объект\n",
    "        obj = Object(\n",
    "            name=\"The Lord of the Rings\",\n",
    "            year=1954,\n",
    "            description=\"Epic fantasy novel\",\n",
    "            genre=genre\n",
    "        )\n",
    "        db.add(obj)\n",
    "        \n",
    "        db.commit()\n",
    "        print(\"Тестовые данные созданы!\")\n",
    "    except Exception as e:\n",
    "        db.rollback()\n",
    "        print(f\"Ошибка: {e}\")\n",
    "    finally:\n",
    "        db.close()\n",
    "\n",
    "create_test_data()"
   ]
  },
  {
   "cell_type": "code",
   "execution_count": 7,
   "id": "3c18827a-00a5-4f58-9830-24df5dbea52a",
   "metadata": {},
   "outputs": [
    {
     "name": "stdout",
     "output_type": "stream",
     "text": [
      "Жанры:\n",
      "- Fantasy: Magical worlds\n",
      "\n",
      "Объекты:\n",
      "- The Lord of the Rings (1954): Epic fantasy novel\n",
      "  Жанр: Fantasy\n"
     ]
    }
   ],
   "source": [
    "from app.database import SessionLocal\n",
    "from app.models import Genre, Object\n",
    "\n",
    "def show_test_data():\n",
    "    db = SessionLocal()\n",
    "    try:\n",
    "        # Получаем все жанры\n",
    "        genres = db.query(Genre).all()\n",
    "        print(\"Жанры:\")\n",
    "        for genre in genres:\n",
    "            print(f\"- {genre.name}: {genre.description}\")\n",
    "        \n",
    "        # Получаем все объекты\n",
    "        objects = db.query(Object).all()\n",
    "        print(\"\\nОбъекты:\")\n",
    "        for obj in objects:\n",
    "            print(f\"- {obj.name} ({obj.year}): {obj.description}\")\n",
    "            print(f\"  Жанр: {obj.genre.name if obj.genre else 'Нет жанра'}\")\n",
    "            \n",
    "    finally:\n",
    "        db.close()\n",
    "\n",
    "show_test_data()"
   ]
  },
  {
   "cell_type": "code",
   "execution_count": 8,
   "id": "a9edaaae-ec94-4c44-92d2-e29b6b85ed23",
   "metadata": {},
   "outputs": [
    {
     "name": "stdout",
     "output_type": "stream",
     "text": [
      "The Lord of the Rings (1954)\n"
     ]
    }
   ],
   "source": [
    "from sqlalchemy import select\n",
    "\n",
    "db = SessionLocal()\n",
    "fantasy_books = db.scalars(\n",
    "    select(Object).join(Genre).where(Genre.name == \"Fantasy\")\n",
    ").all()\n",
    "\n",
    "for book in fantasy_books:\n",
    "    print(f\"{book.name} ({book.year})\")"
   ]
  },
  {
   "cell_type": "code",
   "execution_count": 9,
   "id": "08ed12c2-11dc-4943-b33a-08c6c17b001c",
   "metadata": {},
   "outputs": [
    {
     "name": "stdout",
     "output_type": "stream",
     "text": [
      "Жанр объекта 'The Lord of the Rings': Fantasy\n"
     ]
    }
   ],
   "source": [
    "first_obj = db.get(Object, 1)  # Получить объект с id=1\n",
    "if first_obj:\n",
    "    print(f\"Жанр объекта '{first_obj.name}': {first_obj.genre.name}\")"
   ]
  },
  {
   "cell_type": "code",
   "execution_count": 12,
   "id": "affaff64-500f-4b1e-8f42-97d340b658e5",
   "metadata": {},
   "outputs": [
    {
     "ename": "NameError",
     "evalue": "name 'os' is not defined",
     "output_type": "error",
     "traceback": [
      "\u001b[31m---------------------------------------------------------------------------\u001b[39m",
      "\u001b[31mNameError\u001b[39m                                 Traceback (most recent call last)",
      "\u001b[36mCell\u001b[39m\u001b[36m \u001b[39m\u001b[32mIn[12]\u001b[39m\u001b[32m, line 9\u001b[39m\n\u001b[32m      7\u001b[39m \u001b[38;5;66;03m# Тестируем методы\u001b[39;00m\n\u001b[32m      8\u001b[39m test_client = Client(login=\u001b[33m\"\u001b[39m\u001b[33mtest_user\u001b[39m\u001b[33m\"\u001b[39m)\n\u001b[32m----> \u001b[39m\u001b[32m9\u001b[39m \u001b[43mtest_client\u001b[49m\u001b[43m.\u001b[49m\u001b[43mset_password\u001b[49m\u001b[43m(\u001b[49m\u001b[33;43m\"\u001b[39;49m\u001b[33;43mmy_secure_password\u001b[39;49m\u001b[33;43m\"\u001b[39;49m\u001b[43m)\u001b[49m  \u001b[38;5;66;03m# Теперь метод доступен\u001b[39;00m\n\u001b[32m     11\u001b[39m \u001b[38;5;66;03m# Проверяем хеш\u001b[39;00m\n\u001b[32m     12\u001b[39m \u001b[38;5;28mprint\u001b[39m(\u001b[33mf\u001b[39m\u001b[33m\"\u001b[39m\u001b[33mХеш пароля: \u001b[39m\u001b[38;5;132;01m{\u001b[39;00mtest_client.password_hash\u001b[38;5;132;01m}\u001b[39;00m\u001b[33m\"\u001b[39m)\n",
      "\u001b[36mFile \u001b[39m\u001b[32m~/Lab/RW/app/models.py:20\u001b[39m, in \u001b[36mClient.set_password\u001b[39m\u001b[34m(self, password)\u001b[39m\n\u001b[32m     19\u001b[39m \u001b[38;5;28;01mdef\u001b[39;00m\u001b[38;5;250m \u001b[39m\u001b[34mset_password\u001b[39m(\u001b[38;5;28mself\u001b[39m, password: \u001b[38;5;28mstr\u001b[39m):\n\u001b[32m---> \u001b[39m\u001b[32m20\u001b[39m     salt = bcrypt.gensalt(rounds=\u001b[38;5;28mint\u001b[39m(\u001b[43mos\u001b[49m.getenv(\u001b[33m\"\u001b[39m\u001b[33mBCRYPT_ROUNDS\u001b[39m\u001b[33m\"\u001b[39m, \u001b[32m12\u001b[39m)))\n\u001b[32m     21\u001b[39m     \u001b[38;5;28mself\u001b[39m.password_hash = bcrypt.hashpw(password.encode(), salt).decode()\n",
      "\u001b[31mNameError\u001b[39m: name 'os' is not defined"
     ]
    }
   ],
   "source": [
    "from app.models import Client\n",
    "from app.database import SessionLocal\n",
    "\n",
    "# Создаем сессию\n",
    "db = SessionLocal()\n",
    "\n",
    "# Тестируем методы\n",
    "test_client = Client(login=\"test_user\")\n",
    "test_client.set_password(\"my_secure_password\")  # Теперь метод доступен\n",
    "\n",
    "# Проверяем хеш\n",
    "print(f\"Хеш пароля: {test_client.password_hash}\")\n",
    "\n",
    "# Проверяем проверку пароля\n",
    "print(\"Проверка правильного пароля:\", test_client.check_password(\"my_secure_password\"))\n",
    "print(\"Проверка неправильного пароля:\", test_client.check_password(\"wrong_password\"))\n",
    "\n",
    "db.close()"
   ]
  },
  {
   "cell_type": "code",
   "execution_count": 11,
   "id": "96c2af27-5c82-4ff4-aaa5-61deeaefaba3",
   "metadata": {},
   "outputs": [
    {
     "name": "stdout",
     "output_type": "stream",
     "text": [
      "Ошибка: name 'os' is not defined\n"
     ]
    },
    {
     "ename": "NameError",
     "evalue": "name 'os' is not defined",
     "output_type": "error",
     "traceback": [
      "\u001b[31m---------------------------------------------------------------------------\u001b[39m",
      "\u001b[31mNameError\u001b[39m                                 Traceback (most recent call last)",
      "\u001b[36mCell\u001b[39m\u001b[36m \u001b[39m\u001b[32mIn[11]\u001b[39m\u001b[32m, line 32\u001b[39m\n\u001b[32m     29\u001b[39m         db.close()\n\u001b[32m     31\u001b[39m \u001b[38;5;66;03m# Вызываем функцию\u001b[39;00m\n\u001b[32m---> \u001b[39m\u001b[32m32\u001b[39m test_user = \u001b[43mcreate_test_user\u001b[49m\u001b[43m(\u001b[49m\u001b[43m)\u001b[49m\n",
      "\u001b[36mCell\u001b[39m\u001b[36m \u001b[39m\u001b[32mIn[11]\u001b[39m\u001b[32m, line 13\u001b[39m, in \u001b[36mcreate_test_user\u001b[39m\u001b[34m()\u001b[39m\n\u001b[32m      8\u001b[39m test_user = Client(\n\u001b[32m      9\u001b[39m     login=\u001b[33m\"\u001b[39m\u001b[33mtest_user\u001b[39m\u001b[33m\"\u001b[39m,\n\u001b[32m     10\u001b[39m )\n\u001b[32m     12\u001b[39m \u001b[38;5;66;03m# Устанавливаем хеш пароля\u001b[39;00m\n\u001b[32m---> \u001b[39m\u001b[32m13\u001b[39m \u001b[43mtest_user\u001b[49m\u001b[43m.\u001b[49m\u001b[43mset_password\u001b[49m\u001b[43m(\u001b[49m\u001b[33;43m\"\u001b[39;49m\u001b[33;43mpassTester1337\u001b[39;49m\u001b[33;43m\"\u001b[39;49m\u001b[43m)\u001b[49m  \u001b[38;5;66;03m# Используем наш метод\u001b[39;00m\n\u001b[32m     15\u001b[39m \u001b[38;5;66;03m# Добавляем и сохраняем\u001b[39;00m\n\u001b[32m     16\u001b[39m db.add(test_user)\n",
      "\u001b[36mFile \u001b[39m\u001b[32m~/Lab/RW/app/models.py:20\u001b[39m, in \u001b[36mClient.set_password\u001b[39m\u001b[34m(self, password)\u001b[39m\n\u001b[32m     19\u001b[39m \u001b[38;5;28;01mdef\u001b[39;00m\u001b[38;5;250m \u001b[39m\u001b[34mset_password\u001b[39m(\u001b[38;5;28mself\u001b[39m, password: \u001b[38;5;28mstr\u001b[39m):\n\u001b[32m---> \u001b[39m\u001b[32m20\u001b[39m     salt = bcrypt.gensalt(rounds=\u001b[38;5;28mint\u001b[39m(\u001b[43mos\u001b[49m.getenv(\u001b[33m\"\u001b[39m\u001b[33mBCRYPT_ROUNDS\u001b[39m\u001b[33m\"\u001b[39m, \u001b[32m12\u001b[39m)))\n\u001b[32m     21\u001b[39m     \u001b[38;5;28mself\u001b[39m.password_hash = bcrypt.hashpw(password.encode(), salt).decode()\n",
      "\u001b[31mNameError\u001b[39m: name 'os' is not defined"
     ]
    }
   ],
   "source": [
    "from app.database import SessionLocal\n",
    "from app.models import Client\n",
    "\n",
    "def create_test_user():\n",
    "    db = SessionLocal()\n",
    "    try:\n",
    "        # Создаем объект пользователя\n",
    "        test_user = Client(\n",
    "            login=\"test_user\",\n",
    "        )\n",
    "        \n",
    "        # Устанавливаем хеш пароля\n",
    "        test_user.set_password(\"passTester1337\")  # Используем наш метод\n",
    "        \n",
    "        # Добавляем и сохраняем\n",
    "        db.add(test_user)\n",
    "        db.commit()\n",
    "        print(f\"Пользователь {test_user.login} создан! ID: {test_user.id}\")\n",
    "        \n",
    "        # Проверяем пароль\n",
    "        print(\"Проверка пароля:\", test_user.check_password(\"test_password123\"))\n",
    "        \n",
    "        return test_user\n",
    "    except Exception as e:\n",
    "        db.rollback()\n",
    "        print(f\"Ошибка: {e}\")\n",
    "        raise\n",
    "    finally:\n",
    "        db.close()\n",
    "\n",
    "# Вызываем функцию\n",
    "test_user = create_test_user()"
   ]
  },
  {
   "cell_type": "code",
   "execution_count": 9,
   "id": "02442e5b-0c20-467d-907b-ecd692d4fe13",
   "metadata": {},
   "outputs": [
    {
     "ename": "ImportError",
     "evalue": "cannot import name 'create_app' from 'app' (/home/srv/Lab/RW/app/__init__.py)",
     "output_type": "error",
     "traceback": [
      "\u001b[31m---------------------------------------------------------------------------\u001b[39m",
      "\u001b[31mImportError\u001b[39m                               Traceback (most recent call last)",
      "\u001b[36mCell\u001b[39m\u001b[36m \u001b[39m\u001b[32mIn[9]\u001b[39m\u001b[32m, line 1\u001b[39m\n\u001b[32m----> \u001b[39m\u001b[32m1\u001b[39m \u001b[38;5;28;01mfrom\u001b[39;00m\u001b[38;5;250m \u001b[39m\u001b[34;01mapp\u001b[39;00m\u001b[38;5;250m \u001b[39m\u001b[38;5;28;01mimport\u001b[39;00m create_app\n\u001b[32m      3\u001b[39m app = create_app()\n\u001b[32m      5\u001b[39m \u001b[38;5;28;01mif\u001b[39;00m \u001b[34m__name__\u001b[39m == \u001b[33m\"\u001b[39m\u001b[33m__main__\u001b[39m\u001b[33m\"\u001b[39m:\n",
      "\u001b[31mImportError\u001b[39m: cannot import name 'create_app' from 'app' (/home/srv/Lab/RW/app/__init__.py)"
     ]
    }
   ],
   "source": [
    "from app import create_app\n",
    "\n",
    "app = create_app()\n",
    "\n",
    "if __name__ == \"__main__\":\n",
    "    app.run(debug=True)"
   ]
  },
  {
   "cell_type": "code",
   "execution_count": null,
   "id": "d300ccc2-4b5e-4881-aefc-b87158ef5256",
   "metadata": {},
   "outputs": [],
   "source": []
  }
 ],
 "metadata": {
  "kernelspec": {
   "display_name": "Python 3 (ipykernel)",
   "language": "python",
   "name": "python3"
  },
  "language_info": {
   "codemirror_mode": {
    "name": "ipython",
    "version": 3
   },
   "file_extension": ".py",
   "mimetype": "text/x-python",
   "name": "python",
   "nbconvert_exporter": "python",
   "pygments_lexer": "ipython3",
   "version": "3.12.3"
  }
 },
 "nbformat": 4,
 "nbformat_minor": 5
}
